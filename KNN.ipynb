{
 "cells": [
  {
   "cell_type": "code",
   "execution_count": 1,
   "metadata": {},
   "outputs": [],
   "source": [
    "import numpy as np\n",
    "import matplotlib.pyplot as plt"
   ]
  },
  {
   "cell_type": "code",
   "execution_count": 72,
   "metadata": {},
   "outputs": [
    {
     "name": "stderr",
     "output_type": "stream",
     "text": [
      "C:\\Users\\abhishek\\Anaconda3\\lib\\site-packages\\ipykernel_launcher.py:4: RuntimeWarning: covariance is not symmetric positive-semidefinite.\n",
      "  after removing the cwd from sys.path.\n"
     ]
    },
    {
     "data": {
      "text/plain": [
       "<matplotlib.collections.PathCollection at 0x25d476904c8>"
      ]
     },
     "execution_count": 72,
     "metadata": {},
     "output_type": "execute_result"
    },
    {
     "data": {
      "image/png": "[encoded data removed]",
      "text/plain": [
       "<Figure size 432x288 with 1 Axes>"
      ]
     },
     "metadata": {
      "needs_background": "light"
     },
     "output_type": "display_data"
    }
   ],
   "source": [
    "# preprocessing\n",
    "# X_data = [(xcordinate, ycordinate)]\n",
    "# Y_data = [0/1]\n",
    "X_data_1 = np.random.multivariate_normal([1.0, 2.0], [[1.0, 2.0],[2.0,1.0]], (1000))\n",
    "X_data_2 = np.random.multivariate_normal([10.0, 5.0], [[2.0, 1.0], [1.0, 1.0]], (1000))\n",
    "\n",
    "# print(X_data_1)\n",
    "# print(X_data_1.shape)\n",
    "X_data = np.zeros((2000, 2))\n",
    "X_data[:1000] = X_data_1\n",
    "X_data[1000:] = X_data_2\n",
    "Y_data = np.zeros(2000)\n",
    "Y_data[1000:] = 1\n",
    "np.random.shuffle(X_data)\n",
    "np.random.shuffle(Y_data)\n",
    "\n",
    "plt.scatter(X_data_1[:, 0], X_data_1[:,1])\n",
    "plt.scatter(X_data_2[:, 0], X_data_2[:,1], c = 'g')\n",
    "plt.scatter(5,4,c='k')\n",
    "# print(X_data.shape, Y_data.shape)"
   ]
  },
  {
   "cell_type": "code",
   "execution_count": 56,
   "metadata": {},
   "outputs": [],
   "source": [
    "def dist(x, y):\n",
    "    return np.sqrt(((x - y)**2).sum())\n",
    "\n",
    "def KNN(X_data, Y_data, query, k):\n",
    "    \n",
    "    points = []\n",
    "    for ix in range(0, X_data.shape[0]):\n",
    "        d = dist(query, X_data[ix])\n",
    "        points.append((d, Y_data[ix]))\n",
    "    \n",
    "    points = sorted(points)\n",
    "    points = np.array(points)\n",
    "    arr = points[:k, 1]\n",
    "    print(arr)\n",
    "    t = np.unique(arr, return_counts = True)\n",
    "    index = t[1].argmax()\n",
    "    pred = t[0][index]\n",
    "    return pred"
   ]
  },
  {
   "cell_type": "code",
   "execution_count": 57,
   "metadata": {},
   "outputs": [],
   "source": [
    "#t = np.unique?"
   ]
  },
  {
   "cell_type": "code",
   "execution_count": 119,
   "metadata": {},
   "outputs": [
    {
     "data": {
      "text/plain": [
       "(2000, 2)"
      ]
     },
     "execution_count": 119,
     "metadata": {},
     "output_type": "execute_result"
    }
   ],
   "source": [
    "X_data.shape"
   ]
  },
  {
   "cell_type": "code",
   "execution_count": 120,
   "metadata": {},
   "outputs": [
    {
     "data": {
      "text/plain": [
       "2.23606797749979"
      ]
     },
     "execution_count": 120,
     "metadata": {},
     "output_type": "execute_result"
    }
   ],
   "source": [
    "dist(np.array([0,0]), np.array([1,2]))"
   ]
  },
  {
   "cell_type": "code",
   "execution_count": 121,
   "metadata": {},
   "outputs": [
    {
     "ename": "NameError",
     "evalue": "name 'arr' is not defined",
     "output_type": "error",
     "traceback": [
      "\u001b[1;31m---------------------------------------------------------------------------\u001b[0m",
      "\u001b[1;31mNameError\u001b[0m                                 Traceback (most recent call last)",
      "\u001b[1;32m<ipython-input-121-3b2e4e286636>\u001b[0m in \u001b[0;36m<module>\u001b[1;34m\u001b[0m\n\u001b[1;32m----> 1\u001b[1;33m \u001b[0mnp\u001b[0m\u001b[1;33m.\u001b[0m\u001b[0mrandom\u001b[0m\u001b[1;33m.\u001b[0m\u001b[0mshuffle\u001b[0m\u001b[1;33m(\u001b[0m\u001b[0marr\u001b[0m\u001b[1;33m)\u001b[0m\u001b[1;33m\u001b[0m\u001b[1;33m\u001b[0m\u001b[0m\n\u001b[0m",
      "\u001b[1;31mNameError\u001b[0m: name 'arr' is not defined"
     ]
    }
   ],
   "source": [
    "np.random.shuffle(arr)"
   ]
  },
  {
   "cell_type": "code",
   "execution_count": 118,
   "metadata": {},
   "outputs": [
    {
     "name": "stdout",
     "output_type": "stream",
     "text": [
      "(array([1, 2, 3, 5, 7, 8]), array([3, 4, 5, 7, 0, 1], dtype=int64), array([1, 1, 2, 1, 3, 1], dtype=int64))\n"
     ]
    },
    {
     "data": {
      "text/plain": [
       "4"
      ]
     },
     "execution_count": 118,
     "metadata": {},
     "output_type": "execute_result"
    }
   ],
   "source": [
    "a = np.array([7,8,7,1,2,3,3,5,7])\n",
    "t = np.unique(a,return_index = True ,return_counts= True)\n",
    "print(t)\n",
    "t[2].argmax()"
   ]
  },
  {
   "cell_type": "code",
   "execution_count": 63,
   "metadata": {},
   "outputs": [
    {
     "data": {
      "text/plain": [
       "2"
      ]
     },
     "execution_count": 63,
     "metadata": {},
     "output_type": "execute_result"
    }
   ],
   "source": [
    "t[2][1]"
   ]
  },
  {
   "cell_type": "code",
   "execution_count": 100,
   "metadata": {},
   "outputs": [
    {
     "data": {
      "text/plain": [
       "0.0"
      ]
     },
     "execution_count": 100,
     "metadata": {},
     "output_type": "execute_result"
    }
   ],
   "source": [
    "KNN(X_data, Y_data, np.array([5,4]), 5)"
   ]
  },
  {
   "cell_type": "code",
   "execution_count": 102,
   "metadata": {},
   "outputs": [],
   "source": [
    "##  HOME WORK"
   ]
  },
  {
   "cell_type": "code",
   "execution_count": 35,
   "metadata": {},
   "outputs": [
    {
     "name": "stderr",
     "output_type": "stream",
     "text": [
      "C:\\Users\\abhishek\\Anaconda3\\lib\\site-packages\\ipykernel_launcher.py:4: RuntimeWarning: covariance is not symmetric positive-semidefinite.\n",
      "  after removing the cwd from sys.path.\n"
     ]
    },
    {
     "data": {
      "text/plain": [
       "<matplotlib.collections.PathCollection at 0x1be9f80ab48>"
      ]
     },
     "execution_count": 35,
     "metadata": {},
     "output_type": "execute_result"
    },
    {
     "data": {
      "image/png": "[encoded data removed]",
      "text/plain": [
       "<Figure size 432x288 with 1 Axes>"
      ]
     },
     "metadata": {
      "needs_background": "light"
     },
     "output_type": "display_data"
    }
   ],
   "source": [
    "# preprocessing\n",
    "# X_data = [(xcordinate, ycordinate)]\n",
    "# Y_data = [0/1]\n",
    "X_data_1 = np.random.multivariate_normal([1.0, 2.0], [[1.0, 2.0],[2.0,1.0]], (1000))\n",
    "X_data_2 = np.random.multivariate_normal([10.0, 5.0], [[2.0, 1.0], [1.0, 1.0]], (1000))\n",
    "\n",
    "# print(X_data_1)\n",
    "# print(X_data_1.shape)\n",
    "X_data = np.zeros((2000, 2))\n",
    "X_test = np.zeros((400,2))\n",
    "\n",
    "X_data[:800] = X_data_1[:800]\n",
    "X_test[:200]=X_data_1[800:1000]\n",
    "\n",
    "X_data[800:1600] = X_data_2[:800]\n",
    "X_test[200:400] = X_data_2[800:1000]\n",
    "\n",
    "Y_data = np.zeros(2000)\n",
    "Y_data[1000:] = 1\n",
    "\n",
    "Y_test=np.zeros(400)\n",
    "Y_test[200:400]=1\n",
    "\n",
    "\n",
    "\n",
    "plt.scatter(X_data_1[:, 0], X_data_1[:,1])\n",
    "plt.scatter(X_data_2[:, 0], X_data_2[:,1], c = 'g')\n",
    "plt.scatter(5,4,c='k')\n",
    "# print(X_data.shape, Y_data.shape)"
   ]
  },
  {
   "cell_type": "code",
   "execution_count": 100,
   "metadata": {},
   "outputs": [],
   "source": [
    "def dist(x, y):\n",
    "    return np.sqrt(((x - y)**2).sum())\n",
    "\n",
    "def KNN(X_data, Y_data, query, k):\n",
    "    \n",
    "    points = []\n",
    "    for ix in range(0, X_data.shape[0]):\n",
    "        d = dist(query, X_data[ix])\n",
    "        points.append((d, Y_data[ix]))\n",
    "    \n",
    "    points = sorted(points)\n",
    "    points = np.array(points)\n",
    "    arr = points[:k, 1]\n",
    "    #print(arr)\n",
    "    t = np.unique(arr, return_counts = True)\n",
    "    index = t[1].argmax()\n",
    "    pred = t[0][index]\n",
    "    return pred"
   ]
  },
  {
   "cell_type": "code",
   "execution_count": 101,
   "metadata": {},
   "outputs": [
    {
     "data": {
      "text/plain": [
       "0.0"
      ]
     },
     "execution_count": 101,
     "metadata": {},
     "output_type": "execute_result"
    }
   ],
   "source": [
    "KNN(X_data, Y_data, np.array([5,4]), 5)"
   ]
  },
  {
   "cell_type": "code",
   "execution_count": 102,
   "metadata": {},
   "outputs": [
    {
     "name": "stdout",
     "output_type": "stream",
     "text": [
      "accuracy:  93.5 %\n"
     ]
    }
   ],
   "source": [
    "c=0\n",
    "for x in range(0,X_test.shape[0]):\n",
    "    if Y_test[x]==(KNN(X_data, Y_data, np.array(X_test[x]), 5)):\n",
    "        c=c+1;\n",
    "\n",
    "print(\"accuracy: \",c/400*100,\"%\")\n",
    "\n",
    "        \n",
    "    "
   ]
  },
  {
   "cell_type": "code",
   "execution_count": 103,
   "metadata": {},
   "outputs": [],
   "source": [
    "# for x in range(0,X_test.shape[0]):\n",
    "#     print(KNN(X_data, Y_data, np.array(X_test[x]), 5),\"   \",Y_test[x])"
   ]
  },
  {
   "cell_type": "code",
   "execution_count": 104,
   "metadata": {},
   "outputs": [],
   "source": [
    "import sklearn.datasets as sk"
   ]
  },
  {
   "cell_type": "code",
   "execution_count": 105,
   "metadata": {},
   "outputs": [],
   "source": [
    "data=sk.load_digits?"
   ]
  },
  {
   "cell_type": "code",
   "execution_count": null,
   "metadata": {},
   "outputs": [],
   "source": [
    "data=sk.load_digits"
   ]
  },
  {
   "cell_type": "code",
   "execution_count": 106,
   "metadata": {},
   "outputs": [],
   "source": [
    "data=sk.load_digits"
   ]
  },
  {
   "cell_type": "code",
   "execution_count": 107,
   "metadata": {},
   "outputs": [],
   "source": [
    "new_data=sk.load_digits(n_class=10,return_X_y=True)"
   ]
  },
  {
   "cell_type": "code",
   "execution_count": 114,
   "metadata": {},
   "outputs": [],
   "source": [
    "X=new_data[0]\n",
    "Y=new_data[1]"
   ]
  },
  {
   "cell_type": "code",
   "execution_count": 115,
   "metadata": {},
   "outputs": [
    {
     "name": "stdout",
     "output_type": "stream",
     "text": [
      "(1797, 64) (1797,)\n"
     ]
    }
   ],
   "source": [
    "print(X.shape,Y.shape)"
   ]
  },
  {
   "cell_type": "code",
   "execution_count": 116,
   "metadata": {},
   "outputs": [
    {
     "name": "stdout",
     "output_type": "stream",
     "text": [
      "(1500, 64)\n"
     ]
    }
   ],
   "source": [
    "train_data_x=X[:1500]\n",
    "test_data_x=X[1500:1797]\n",
    "\n",
    "train_data_y=Y[:1500]\n",
    "test_data_y=Y[1500:1797]\n",
    "print(train_data_x.shape)"
   ]
  },
  {
   "cell_type": "code",
   "execution_count": 153,
   "metadata": {},
   "outputs": [
    {
     "name": "stdout",
     "output_type": "stream",
     "text": [
      "accuracy:  94.61279461279462 %\n",
      "accuracy:  95.62289562289563 %\n",
      "accuracy:  95.95959595959596 %\n",
      "accuracy:  95.95959595959596 %\n",
      "accuracy:  95.62289562289563 %\n",
      "accuracy:  94.61279461279462 %\n",
      "accuracy:  94.61279461279462 %\n",
      "accuracy:  94.27609427609428 %\n",
      "accuracy:  94.27609427609428 %\n",
      "accuracy:  94.27609427609428 %\n",
      "accuracy:  94.27609427609428 %\n",
      "accuracy:  94.27609427609428 %\n",
      "accuracy:  93.93939393939394 %\n",
      "accuracy:  94.27609427609428 %\n",
      "accuracy:  93.93939393939394 %\n",
      "accuracy:  94.61279461279462 %\n",
      "accuracy:  94.27609427609428 %\n",
      "accuracy:  93.93939393939394 %\n",
      "accuracy:  93.93939393939394 %\n",
      "accuracy:  93.93939393939394 %\n",
      "accuracy:  93.60269360269359 %\n",
      "accuracy:  93.93939393939394 %\n",
      "accuracy:  93.93939393939394 %\n",
      "accuracy:  94.27609427609428 %\n",
      "accuracy:  93.93939393939394 %\n",
      "accuracy:  93.93939393939394 %\n",
      "accuracy:  94.27609427609428 %\n",
      "accuracy:  93.93939393939394 %\n",
      "accuracy:  94.27609427609428 %\n",
      "accuracy:  93.60269360269359 %\n",
      "accuracy:  93.26599326599326 %\n",
      "accuracy:  93.60269360269359 %\n",
      "accuracy:  93.60269360269359 %\n",
      "accuracy:  93.26599326599326 %\n",
      "accuracy:  93.26599326599326 %\n",
      "accuracy:  93.26599326599326 %\n",
      "accuracy:  93.26599326599326 %\n",
      "accuracy:  93.26599326599326 %\n",
      "accuracy:  92.5925925925926 %\n",
      "accuracy:  92.25589225589226 %\n",
      "accuracy:  92.5925925925926 %\n",
      "accuracy:  92.25589225589226 %\n",
      "accuracy:  92.92929292929293 %\n",
      "accuracy:  92.5925925925926 %\n",
      "accuracy:  92.5925925925926 %\n",
      "accuracy:  92.5925925925926 %\n",
      "accuracy:  92.5925925925926 %\n",
      "accuracy:  92.5925925925926 %\n",
      "accuracy:  92.5925925925926 %\n"
     ]
    },
    {
     "data": {
      "text/plain": [
       "Text(0, 0.5, 'Accuracy')"
      ]
     },
     "execution_count": 153,
     "metadata": {},
     "output_type": "execute_result"
    },
    {
     "data": {
      "image/png": "[encoded data removed]",
      "text/plain": [
       "<Figure size 432x288 with 1 Axes>"
      ]
     },
     "metadata": {
      "needs_background": "light"
     },
     "output_type": "display_data"
    }
   ],
   "source": [
    "c=0\n",
    "pp=[]\n",
    "for y in range(1,50):\n",
    "    for x in range(0,test_data_x.shape[0]):\n",
    "        if(test_data_y[x]==(KNN(train_data_x, train_data_y, test_data_x[x], y))):\n",
    "            c=c+1\n",
    "    print(\"accuracy: \",c/297*100,\"%\")\n",
    "    pp.append(c/297*100)\n",
    "    c=0;\n",
    "zz=np.arange(1,50,1)\n",
    "plt.plot(zz,pp)\n",
    "plt.xlabel('K-value')\n",
    "plt.ylabel('Accuracy')\n",
    "\n"
   ]
  },
  {
   "cell_type": "code",
   "execution_count": 132,
   "metadata": {},
   "outputs": [
    {
     "data": {
      "text/plain": [
       "0.0"
      ]
     },
     "execution_count": 132,
     "metadata": {},
     "output_type": "execute_result"
    }
   ],
   "source": [
    "KNN(X_data, Y_data, np.array([5,4]), 5)"
   ]
  },
  {
   "cell_type": "code",
   "execution_count": 133,
   "metadata": {},
   "outputs": [
    {
     "name": "stdout",
     "output_type": "stream",
     "text": [
      "Object `x_label` not found.\n"
     ]
    }
   ],
   "source": []
  },
  {
   "cell_type": "code",
   "execution_count": 75,
   "metadata": {},
   "outputs": [
    {
     "data": {
      "text/plain": [
       "<matplotlib.image.AxesImage at 0x1be9f5f5508>"
      ]
     },
     "execution_count": 75,
     "metadata": {},
     "output_type": "execute_result"
    },
    {
     "data": {
      "image/png": "[encoded data removed]",
      "text/plain": [
       "<Figure size 432x288 with 1 Axes>"
      ]
     },
     "metadata": {
      "needs_background": "light"
     },
     "output_type": "display_data"
    }
   ],
   "source": [
    "img=np.resize(X[140],(8,8))\n",
    "img[4][4]=0\n",
    "plt.imshow(img,cmap='gray')"
   ]
  },
  {
   "cell_type": "code",
   "execution_count": 87,
   "metadata": {},
   "outputs": [
    {
     "name": "stdout",
     "output_type": "stream",
     "text": [
      "(1797, 64)\n"
     ]
    }
   ],
   "source": [
    "    >>> from sklearn.datasets import load_digits\n",
    "    >>> digits = load_digits()\n",
    "    >>> print(digits.data.shape)\n",
    "\n"
   ]
  },
  {
   "cell_type": "code",
   "execution_count": null,
   "metadata": {},
   "outputs": [],
   "source": []
  },
  {
   "cell_type": "code",
   "execution_count": null,
   "metadata": {},
   "outputs": [],
   "source": []
  }
 ],
 "metadata": {
  "kernelspec": {
   "display_name": "Python 3",
   "language": "python",
   "name": "python3"
  },
  "language_info": {
   "codemirror_mode": {
    "name": "ipython",
    "version": 3
   },
   "file_extension": ".py",
   "mimetype": "text/x-python",
   "name": "python",
   "nbconvert_exporter": "python",
   "pygments_lexer": "ipython3",
   "version": "3.7.4"
  }
 },
 "nbformat": 4,
 "nbformat_minor": 4
}
